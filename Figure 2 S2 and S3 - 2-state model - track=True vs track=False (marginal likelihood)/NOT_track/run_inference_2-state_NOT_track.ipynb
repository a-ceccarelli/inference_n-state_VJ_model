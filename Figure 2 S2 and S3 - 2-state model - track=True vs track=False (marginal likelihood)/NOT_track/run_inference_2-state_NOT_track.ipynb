{
 "cells": [
  {
   "cell_type": "code",
   "execution_count": 4,
   "id": "1ff60322",
   "metadata": {},
   "outputs": [],
   "source": [
    "# importing all the libraries\n",
    "import numpy as np\n",
    "import matplotlib.pyplot as plt\n",
    "import matplotlib.colors as colors\n",
    "import copy\n",
    "import random\n",
    "import pandas as pd\n",
    "import math\n",
    "import scipy\n",
    "from scipy.stats import norm, expon\n",
    "from scipy.linalg import null_space\n",
    "import pandas as pd\n",
    "import time\n",
    "\n",
    "import os\n",
    "cwd = os.getcwd()\n",
    "\n",
    "%run ../../functions_MCMC"
   ]
  },
  {
   "cell_type": "code",
   "execution_count": 5,
   "id": "27e6261f",
   "metadata": {},
   "outputs": [],
   "source": [
    "# define variables\n",
    "data_seed = 1223\n",
    "burnin = 10000 #10k\n",
    "n_after_burnin = 10000 #10k\n",
    "delta_t = 0.3\n",
    "\n",
    "#T=60 gives 200 delta_y\n",
    "T = 60\n",
    "n_chains = 4\n",
    "n_sim = 1\n",
    "\n",
    "V_F = 2000\n",
    "V_B = -1500\n",
    "V = np.array([V_F, V_B])\n",
    "Lambda = np.array([1, 0.5])\n",
    "log_Lambda = np.log(Lambda)\n",
    "P = np.array([[0.0, 1.0], [1.0, 0.0]])\n",
    "sigma = 50.0\n",
    "n = Lambda.shape[0]\n",
    "n_param = 5\n",
    "\n",
    "parameter_names = ['v1', 'v2', 'loglambda1', 'loglambda2', 'sigma']\n",
    "parameter_names_tex = [r'$v_1$', r'$v_2$', r'log($\\lambda_1$)',\n",
    "                       r'log($\\lambda_2$)', r'$\\sigma$']\n",
    "\n",
    "#choose initial covariance matrix for resampling\n",
    "init_cov_matrix = np.array([np.diag(np.array([0.1, 0.1, 0.0001, 0.0001, 0.01]))\n",
    "                            for _ in range(n_chains)])\n",
    "\n",
    "correlated = True\n",
    "up_to_switches = 1\n",
    "track = False\n",
    "\n",
    "plots = False\n",
    "save = True\n",
    "all_plots = False\n",
    "plot_posteriors_grid = False\n",
    "plot_fit = False\n",
    "plot_fit_median = False\n",
    "\n",
    "theta_true = list(V) + list(log_Lambda) + [sigma] #not including values for P for 2x2"
   ]
  },
  {
   "cell_type": "code",
   "execution_count": 6,
   "id": "de48d215",
   "metadata": {},
   "outputs": [],
   "source": [
    "#THIS STILL NEEDS TO BE MODIFIED FOR SEVERAL CASES\n",
    "def get_parameters(theta):\n",
    "    V = np.zeros(2)\n",
    "    V[0] = 1.0*theta[0]\n",
    "    V[1] = 1.0*theta[1]\n",
    "    Lambda = 1.0*np.exp(np.array(theta[2:4]))\n",
    "    P = np.zeros((2,2))\n",
    "    P[0,1] = 1.0\n",
    "    P[1,0] = 1.0\n",
    "    sigma = 1.0*theta[-1]\n",
    "    \n",
    "    return V, Lambda, P, sigma\n",
    "\n",
    "def q(theta, cov_matrix=init_cov_matrix):\n",
    "    \"\"\"q samples a new theta_star given theta\"\"\"\n",
    "    theta_star = np.random.multivariate_normal(theta, cov_matrix)\n",
    "    while (theta_star[0]<0 or theta_star[0]>2.0*V_F or \n",
    "           theta_star[1]>0 or theta_star[1]<2.0*V_B or \n",
    "           np.any(theta_star[2:4]<-4) or np.any(theta_star[2:4]>4) or\n",
    "           theta_star[-1]<0 or np.any(theta_star[-1]>2.0*sigma)):\n",
    "        theta_star = np.random.multivariate_normal(theta, cov_matrix)\n",
    "    return theta_star\n",
    "\n",
    "def theta_init_uniform(seed):\n",
    "    np.random.seed(seed)\n",
    "    rand_vec = np.random.uniform(size=5)\n",
    "    theta = ((np.array([2.0*V_F, 2.0*V_B, 8.0, 8.0, 2.0*sigma])*rand_vec)\n",
    "              +np.array([0.0, 0.0, -4.0, -4.0, 0.0]))\n",
    "    #print('theta_init =', get_parameters(theta))\n",
    "    return theta"
   ]
  },
  {
   "cell_type": "code",
   "execution_count": 7,
   "id": "e586d3a0",
   "metadata": {
    "scrolled": false
   },
   "outputs": [
    {
     "name": "stdout",
     "output_type": "stream",
     "text": [
      "Iteration 0\n",
      "Running the burnin and adaptively computing the covariance matrices for each chain.\n"
     ]
    },
    {
     "name": "stderr",
     "output_type": "stream",
     "text": [
      "/Users/ariannaceccarelli/Documents/UNIVERSITY/PARAMETER INFERENCE PROJECT/CODE FOR GIT MCMC/functions_MCMC.py:740: RuntimeWarning: divide by zero encountered in log\n",
      "  log_like = np.sum(np.log(approx_pdf_theta(theta, get_parameters, delta_t, delta_y,\n"
     ]
    },
    {
     "name": "stdout",
     "output_type": "stream",
     "text": [
      "Computed the covariance matrices.\n",
      "Running MCMC with 4 chains\n",
      "done\n",
      "R_hat = [1.00098261 1.00164699 1.00030135 1.00051553 1.00064987]\n",
      "Done simulation 0\n",
      "The total runtime is 81.31384897232056 seconds.\n",
      "Not converged: 0\n"
     ]
    }
   ],
   "source": [
    "all_theta, all_log_pi, _, _, dY = distinct_track_runs_MCMC(theta_true = theta_true,\n",
    "                                 get_parameters = get_parameters,\n",
    "                                 parameter_names = parameter_names,\n",
    "                                 parameter_names_tex = parameter_names_tex,\n",
    "                                 burnin = burnin, n_after_burnin = n_after_burnin,\n",
    "                                 delta_t = delta_t, T = T,\n",
    "                                 n_chains = n_chains, n_sim = n_sim,\n",
    "                                 plots = plots, save = save, all_plots = all_plots,\n",
    "                                 plot_posteriors_grid = plot_posteriors_grid,\n",
    "                                 plot_fit = plot_fit,\n",
    "                                 plot_fit_median = plot_fit_median, track = track,\n",
    "                                 up_to_switches = up_to_switches,\n",
    "                                 init_cov_matrix = init_cov_matrix, q = q,\n",
    "                                 delta_Y = None,\n",
    "                                 theta_init = None,\n",
    "                                 theta_init_distribution = theta_init_uniform,\n",
    "                                 correlated = correlated, show_time = True)"
   ]
  },
  {
   "cell_type": "code",
   "execution_count": null,
   "id": "b1777b42",
   "metadata": {},
   "outputs": [],
   "source": []
  }
 ],
 "metadata": {
  "kernelspec": {
   "display_name": "Python 3 (ipykernel)",
   "language": "python",
   "name": "python3"
  },
  "language_info": {
   "codemirror_mode": {
    "name": "ipython",
    "version": 3
   },
   "file_extension": ".py",
   "mimetype": "text/x-python",
   "name": "python",
   "nbconvert_exporter": "python",
   "pygments_lexer": "ipython3",
   "version": "3.8.5"
  }
 },
 "nbformat": 4,
 "nbformat_minor": 5
}
