{
 "cells": [
  {
   "cell_type": "code",
   "execution_count": 2,
   "id": "1ff60322",
   "metadata": {},
   "outputs": [],
   "source": [
    "# importing all the libraries\n",
    "import numpy as np\n",
    "import matplotlib as mpl\n",
    "import matplotlib.pyplot as plt\n",
    "import matplotlib.colors as colors\n",
    "import copy\n",
    "import random\n",
    "import pandas as pd\n",
    "import math\n",
    "import scipy\n",
    "from scipy.stats import norm, expon\n",
    "from scipy.linalg import null_space\n",
    "import pandas as pd\n",
    "import matplotlib as mpl\n",
    "\n",
    "import os\n",
    "cwd = os.getcwd()\n",
    "\n",
    "%run ../functions_MCMC"
   ]
  },
  {
   "cell_type": "code",
   "execution_count": 3,
   "id": "27e6261f",
   "metadata": {},
   "outputs": [],
   "source": [
    "# define variables\n",
    "data_seed = 1223\n",
    "burnin = 1000 #1k\n",
    "n_after_burnin = 10000 #10k\n",
    "delta_t = 0.3\n",
    "\n",
    "#T=60 gives 200 delta_y\n",
    "T = 60\n",
    "n_it = 1\n",
    "seeds_list = [1229, 1231, 1237, 1249, 1259, 1277, 1279, 1283, 1289, 1291]\n",
    "n_sim = 100\n",
    "\n",
    "V_F = 2000\n",
    "V_B = -1500\n",
    "V = np.array([V_F, V_B])\n",
    "Lambda = np.array([1, 0.5])\n",
    "log_Lambda = np.log(Lambda)\n",
    "P = np.array([[0.0, 1.0], [1.0, 0.0]])\n",
    "sigma = 50.0\n",
    "sigma_max = np.max(np.abs(V))*delta_t/10.0\n",
    "n = Lambda.shape[0]\n",
    "n_param = 5\n",
    "\n",
    "parameter_names = ['v1', 'v2', 'loglambda1', 'loglambda2', 'sigma']\n",
    "parameter_names_tex = [r'$v_1$', r'$v_2$', r'log($\\lambda_1$)',\n",
    "                       r'log($\\lambda_2$)', r'$\\sigma$']\n",
    "\n",
    "#choose initial covariance matrix for resampling\n",
    "init_cov_matrix = np.diag(np.array([0.1, 0.1, 0.0001, 0.0001, 0.01]))\n",
    "\n",
    "correlated = False\n",
    "up_to_switches = 1\n",
    "track = False\n",
    "\n",
    "plots = False\n",
    "save = True\n",
    "all_plots = False\n",
    "plot_posteriors_grid = False\n",
    "save_pearsons_correlations = False\n",
    "plot_fit = False\n",
    "plot_fit_median = False\n",
    "\n",
    "theta_true = list(V) + list(log_Lambda) + [sigma] #not including values for P for 2x2"
   ]
  },
  {
   "cell_type": "code",
   "execution_count": 4,
   "id": "afd07cc0",
   "metadata": {},
   "outputs": [],
   "source": [
    "#THIS STILL NEEDS TO BE MODIFIED FOR SEVERAL CASES\n",
    "def get_parameters(theta):\n",
    "    V = np.zeros(2)\n",
    "    V[0] = 1.0*theta[0]\n",
    "    V[1] = 1.0*theta[1]\n",
    "    Lambda = 1.0*np.exp(np.array(theta[2:4]))\n",
    "    P = np.zeros((2,2))\n",
    "    P[0,1] = 1.0\n",
    "    P[1,0] = 1.0\n",
    "    sigma = 1.0*theta[-1]\n",
    "    \n",
    "    return V, Lambda, P, sigma"
   ]
  },
  {
   "cell_type": "code",
   "execution_count": 5,
   "id": "6834e54f",
   "metadata": {},
   "outputs": [],
   "source": [
    "times_NOTtrack_list = [77, 92, 97]\n",
    "times_track_list = [2244, 4453, 8539]\n",
    "#note that these are rounded to integer from the output files ending in _1.out\n",
    "#for each case (in the folder OUTPUTS)"
   ]
  },
  {
   "cell_type": "code",
   "execution_count": 6,
   "id": "b306d117",
   "metadata": {},
   "outputs": [
    {
     "data": {
      "image/png": "[encoded data removed]",
      "text/plain": [
       "<Figure size 400x400 with 1 Axes>"
      ]
     },
     "metadata": {},
     "output_type": "display_data"
    }
   ],
   "source": [
    "#Figure S5 panel F\n",
    "#for seed 0\n",
    "N_list = [50,100,200]\n",
    "plt.figure(figsize=(4,4))\n",
    "plt.plot(N_list, times_track_list, '-*', color='blue', label=r'$P_1$')\n",
    "plt.plot(N_list, times_NOTtrack_list, '-*', color='orangered', label=r'$P_1^{\\mathcal{M}}$')\n",
    "plt.xticks(N_list, N_list)\n",
    "plt.legend()\n",
    "plt.xlabel(r'$N$ data increments')\n",
    "plt.ylabel(r'runtime (seconds)')\n",
    "plt.savefig(\"NOTtrack_vs_track_runtime_varying_N.png\", format=\"png\", dpi=1200,\n",
    "            bbox_inches=\"tight\")\n",
    "plt.show()"
   ]
  },
  {
   "cell_type": "code",
   "execution_count": null,
   "id": "c8a0ab3c",
   "metadata": {
    "scrolled": true
   },
   "outputs": [],
   "source": [
    "#importing data (ratesx1 = datax1 and it's the same as Figure S4)\n",
    "theta_all = {'datadiv4':[[] for _ in range(100)],\n",
    "             'datadiv2':[[] for _ in range(100)],\n",
    "             'ratesx1':[[] for _ in range(100)]}\n",
    "log_pi = {'datadiv4':[None for _ in range(100)],\n",
    "          'datadiv2':[None for _ in range(100)],\n",
    "          'ratesx1':[None for _ in range(100)]}\n",
    "theta_best = {'datadiv4':[None for _ in range(100)],\n",
    "              'datadiv2':[None for _ in range(100)],\n",
    "              'ratesx1':[None for _ in range(100)]}\n",
    "\n",
    "list_1 = ['datadiv4', 'datadiv2', 'ratesx1']\n",
    "\n",
    "theta_all_NOTtrack = {'datadiv4':[[] for _ in range(100)],\n",
    "                      'datadiv2':[[] for _ in range(100)],\n",
    "                      'ratesx1':[[] for _ in range(100)]}\n",
    "log_pi_NOTtrack = {'datadiv4':[None for _ in range(100)],\n",
    "                   'datadiv2':[None for _ in range(100)],\n",
    "                   'ratesx1':[None for _ in range(100)]}\n",
    "theta_best_NOTtrack = {'datadiv4':[None for _ in range(100)],\n",
    "                       'datadiv2':[None for _ in range(100)],\n",
    "                       'ratesx1':[None for _ in range(100)]}\n",
    "\n",
    "list_1 = ['datadiv4', 'datadiv2', 'ratesx1']\n",
    "\n",
    "list_2 = [50, 100, 200]\n",
    "\n",
    "for el in list_1:\n",
    "    print(\"Importing theta - folder\", el, \"seed\")\n",
    "    for seed in range(100):\n",
    "        print(seed)\n",
    "        for param in parameter_names:\n",
    "            theta_all[el][seed] += [np.array(pd.read_csv(\"RESULTS_2_\"+el+\"/MCMC, seed \"+str(seed)+\", parameter \"+param+\", burnin=10000, n_after_burnin=10000\", index_col=0)).flatten()]\n",
    "            theta_all_NOTtrack[el][seed] += [np.array(pd.read_csv(\"RESULTS_2_\"+el+\"_NOTtrack/MCMC, seed \"+str(seed)+\", parameter \"+param+\", burnin=10000, n_after_burnin=10000\", index_col=0)).flatten()]\n",
    "        theta_all[el][seed] = np.array(theta_all[el][seed])\n",
    "        theta_all_NOTtrack[el][seed] = np.array(theta_all_NOTtrack[el][seed])\n",
    "\n",
    "        log_pi[el][seed] = np.array(pd.read_csv(\"RESULTS_2_\"+el+\"/MCMC, seed \"+str(seed)+\", log_pi , burnin=10000, n_after_burnin=10000\", index_col=0)).flatten()\n",
    "        theta_best[el][seed] = theta_all[el][seed][:, np.argmax(log_pi[el][seed])]\n",
    "\n",
    "        log_pi_NOTtrack[el][seed] = np.array(pd.read_csv(\"RESULTS_2_\"+el+\"_NOTtrack/MCMC, seed \"+str(seed)+\", log_pi , burnin=10000, n_after_burnin=10000\", index_col=0)).flatten()\n",
    "        theta_best_NOTtrack[el][seed] = theta_all_NOTtrack[el][seed][:, np.argmax(log_pi_NOTtrack[el][seed])]"
   ]
  },
  {
   "cell_type": "code",
   "execution_count": null,
   "id": "3a25112c",
   "metadata": {},
   "outputs": [],
   "source": [
    "stds_corr = {50:[None for _ in range(100)],\n",
    "             100:[None for _ in range(100)],\n",
    "             200:[None for _ in range(100)]}\n",
    "\n",
    "stds_corr_NOTtrack = {50:[None for _ in range(100)],\n",
    "                      100:[None for _ in range(100)],\n",
    "                      200:[None for _ in range(100)]}\n",
    "\n",
    "for i in range(3):\n",
    "    for seed in range(100):\n",
    "        stds_corr[list_2[i]][seed] = np.std(theta_all[list_1[i]][seed], axis=1)\n",
    "        stds_corr_NOTtrack[list_2[i]][seed] = np.std(theta_all_NOTtrack[list_1[i]][seed], axis=1)\n",
    "    stds_corr[list_2[i]] = np.array(stds_corr[list_2[i]]).T\n",
    "    stds_corr_NOTtrack[list_2[i]] = np.array(stds_corr_NOTtrack[list_2[i]]).T"
   ]
  },
  {
   "cell_type": "code",
   "execution_count": null,
   "id": "7bd59fd0",
   "metadata": {},
   "outputs": [],
   "source": [
    "stds_medians_corr = np.array([np.median(stds_corr[i], axis=1) for i in [50,100,200]])\n",
    "stds_medians_corr_NOTtrack = np.array([np.median(stds_corr_NOTtrack[i], axis=1) for i in [50,100,200]])"
   ]
  },
  {
   "cell_type": "code",
   "execution_count": null,
   "id": "83faf63e",
   "metadata": {},
   "outputs": [],
   "source": [
    "one_over_sqrt_N = 1 / np.sqrt(np.array([50,100,200]))"
   ]
  },
  {
   "cell_type": "code",
   "execution_count": null,
   "id": "3ebc0278",
   "metadata": {
    "scrolled": false
   },
   "outputs": [],
   "source": [
    "#Figure S5 panels A-E\n",
    "colors_track = mpl.colormaps['Blues'](np.linspace(0, 1, 5))[3:0:-1]\n",
    "colors_NOTtrack = mpl.colormaps['Oranges'](np.linspace(0, 1, 5))[3:0:-1]\n",
    "for j in [0,1,2,3,4]:\n",
    "    fig, ax = plt.subplots(1,2, figsize=(7,3.5), sharey=True, sharex=True)\n",
    "    \n",
    "    ax[0].axhline(0.0, linestyle='--', color='gray')\n",
    "    ax[1].axhline(0.0, linestyle='--', color='gray')\n",
    "    \n",
    "    lin_f = np.polyfit(one_over_sqrt_N, stds_medians_corr[:, j], 1)\n",
    "    linsp = np.linspace(one_over_sqrt_N[0], one_over_sqrt_N[2])\n",
    "    y = np.polyval(lin_f, linsp)\n",
    "    print(lin_f)\n",
    "    ax[0].plot((1/linsp)**2, y, color='black', label=r'$S=m\\cdot \\frac{1}{\\sqrt{N}} + q$')\n",
    "        \n",
    "    bplot = ax[0].boxplot([stds_corr[i][j,:] for i in [50,100,200]],\n",
    "                           positions=[50,100,200], patch_artist=True, vert=True, widths=15)\n",
    "    for patch, patch2, color in zip(bplot['boxes'], bplot['medians'], colors_track):\n",
    "        patch.set_facecolor(color)\n",
    "        patch2.set_color('black')\n",
    "    \n",
    "    lin_f = np.polyfit(one_over_sqrt_N, stds_medians_corr_NOTtrack[:, j], 1)\n",
    "    linsp = np.linspace(one_over_sqrt_N[0], one_over_sqrt_N[2])\n",
    "    y = np.polyval(lin_f, linsp)\n",
    "    print(lin_f)\n",
    "    ax[1].plot((1/linsp)**2, y, color='black', label=r'$S=m\\cdot \\frac{1}{\\sqrt{N}} + q$')\n",
    "        \n",
    "    bplot = ax[1].boxplot([stds_corr_NOTtrack[i][j,:] for i in [50,100,200]],\n",
    "                           positions=[50,100,200], patch_artist=True, vert=True, widths=15)\n",
    "    for patch, patch2, color in zip(bplot['boxes'], bplot['medians'], colors_NOTtrack):\n",
    "        patch.set_facecolor(color)\n",
    "        patch2.set_color('black')\n",
    "        \n",
    "    ax[0].legend()\n",
    "    ax[1].legend()\n",
    "    ax[0].set_ylabel(\"S := std(\"+parameter_names_tex[j]+\")\")\n",
    "    ax[0].set_xlabel(r'$N$ data increments')\n",
    "    ax[1].set_xlabel(r'$N$ data increments')\n",
    "    ax[0].set_title(r'$P_1$')\n",
    "    ax[1].set_title(r'$P_1^{\\mathcal{M}}$')\n",
    "    ax[0].set_xticks(ticks=[50,100,200], labels=[50,100,200])\n",
    "    ax[1].set_xticks(ticks=[50,100,200], labels=[50,100,200])\n",
    "    plt.subplots_adjust(wspace=0.1)\n",
    "    plt.savefig(\"NOTtrack_vs_track_stds_interp_\"+parameter_names[j]+\".png\", format=\"png\", dpi=1200,\n",
    "                bbox_inches=\"tight\")\n",
    "    plt.show()"
   ]
  },
  {
   "cell_type": "code",
   "execution_count": null,
   "id": "213fa4d5",
   "metadata": {},
   "outputs": [],
   "source": []
  }
 ],
 "metadata": {
  "kernelspec": {
   "display_name": "Python 3 (ipykernel)",
   "language": "python",
   "name": "python3"
  },
  "language_info": {
   "codemirror_mode": {
    "name": "ipython",
    "version": 3
   },
   "file_extension": ".py",
   "mimetype": "text/x-python",
   "name": "python",
   "nbconvert_exporter": "python",
   "pygments_lexer": "ipython3",
   "version": "3.8.5"
  }
 },
 "nbformat": 4,
 "nbformat_minor": 5
}
